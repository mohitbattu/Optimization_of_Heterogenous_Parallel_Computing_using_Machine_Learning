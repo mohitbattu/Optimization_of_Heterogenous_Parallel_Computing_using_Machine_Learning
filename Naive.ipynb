{
 "cells": [
  {
   "cell_type": "code",
   "execution_count": 29,
   "id": "a5e7e156",
   "metadata": {},
   "outputs": [],
   "source": [
    "import pandas as pd"
   ]
  },
  {
   "cell_type": "code",
   "execution_count": 58,
   "id": "fdcf6f56",
   "metadata": {},
   "outputs": [],
   "source": [
    "naive=pd.read_csv('naive_Multiplication_GPU.csv')"
   ]
  },
  {
   "cell_type": "code",
   "execution_count": 31,
   "id": "a487fbc8",
   "metadata": {},
   "outputs": [
    {
     "data": {
      "text/html": [
       "<div>\n",
       "<style scoped>\n",
       "    .dataframe tbody tr th:only-of-type {\n",
       "        vertical-align: middle;\n",
       "    }\n",
       "\n",
       "    .dataframe tbody tr th {\n",
       "        vertical-align: top;\n",
       "    }\n",
       "\n",
       "    .dataframe thead th {\n",
       "        text-align: right;\n",
       "    }\n",
       "</style>\n",
       "<table border=\"1\" class=\"dataframe\">\n",
       "  <thead>\n",
       "    <tr style=\"text-align: right;\">\n",
       "      <th></th>\n",
       "      <th>Algorithm_Name</th>\n",
       "      <th>Input_Dimensions</th>\n",
       "      <th>Execution_Time(ms)</th>\n",
       "    </tr>\n",
       "  </thead>\n",
       "  <tbody>\n",
       "    <tr>\n",
       "      <th>0</th>\n",
       "      <td>Naive_GPU</td>\n",
       "      <td>16</td>\n",
       "      <td>0.145286</td>\n",
       "    </tr>\n",
       "    <tr>\n",
       "      <th>1</th>\n",
       "      <td>Naive_GPU</td>\n",
       "      <td>32</td>\n",
       "      <td>0.157734</td>\n",
       "    </tr>\n",
       "    <tr>\n",
       "      <th>2</th>\n",
       "      <td>Naive_GPU</td>\n",
       "      <td>48</td>\n",
       "      <td>0.192416</td>\n",
       "    </tr>\n",
       "    <tr>\n",
       "      <th>3</th>\n",
       "      <td>Naive_GPU</td>\n",
       "      <td>64</td>\n",
       "      <td>0.135853</td>\n",
       "    </tr>\n",
       "    <tr>\n",
       "      <th>4</th>\n",
       "      <td>Naive_GPU</td>\n",
       "      <td>80</td>\n",
       "      <td>0.314778</td>\n",
       "    </tr>\n",
       "  </tbody>\n",
       "</table>\n",
       "</div>"
      ],
      "text/plain": [
       "  Algorithm_Name  Input_Dimensions  Execution_Time(ms)\n",
       "0      Naive_GPU                16            0.145286\n",
       "1      Naive_GPU                32            0.157734\n",
       "2      Naive_GPU                48            0.192416\n",
       "3      Naive_GPU                64            0.135853\n",
       "4      Naive_GPU                80            0.314778"
      ]
     },
     "execution_count": 31,
     "metadata": {},
     "output_type": "execute_result"
    }
   ],
   "source": [
    "naive.head()"
   ]
  },
  {
   "cell_type": "code",
   "execution_count": 33,
   "id": "889e51ca",
   "metadata": {},
   "outputs": [
    {
     "data": {
      "text/plain": [
       "0        0.145286\n",
       "1        0.157734\n",
       "2        0.192416\n",
       "3        0.135853\n",
       "4        0.314778\n",
       "          ...    \n",
       "261    119.379784\n",
       "262    119.481671\n",
       "263    120.487111\n",
       "264    124.984937\n",
       "265    399.945395\n",
       "Name: Execution_Time(ms), Length: 266, dtype: float64"
      ]
     },
     "execution_count": 33,
     "metadata": {},
     "output_type": "execute_result"
    }
   ],
   "source": [
    "naive[\"Execution_Time(ms)\"]"
   ]
  },
  {
   "cell_type": "code",
   "execution_count": 34,
   "id": "1807025d",
   "metadata": {},
   "outputs": [],
   "source": [
    "import seaborn as sns"
   ]
  },
  {
   "cell_type": "code",
   "execution_count": 35,
   "id": "830cd910",
   "metadata": {},
   "outputs": [
    {
     "data": {
      "text/plain": [
       "<AxesSubplot:xlabel='Execution_Time(ms)'>"
      ]
     },
     "execution_count": 35,
     "metadata": {},
     "output_type": "execute_result"
    },
    {
     "data": {
      "image/png": "[encoded data removed]",
      "text/plain": [
       "<Figure size 432x288 with 1 Axes>"
      ]
     },
     "metadata": {
      "needs_background": "light"
     },
     "output_type": "display_data"
    }
   ],
   "source": [
    "sns.boxplot(x=naive[\"Execution_Time(ms)\"])"
   ]
  },
  {
   "cell_type": "code",
   "execution_count": 42,
   "id": "043c07ab",
   "metadata": {},
   "outputs": [
    {
     "data": {
      "text/plain": [
       "0    16.145286\n",
       "1    32.157734\n",
       "2    48.192416\n",
       "3    64.135853\n",
       "4    80.314778\n",
       "dtype: float64"
      ]
     },
     "execution_count": 42,
     "metadata": {},
     "output_type": "execute_result"
    }
   ],
   "source": [
    "num.head(5)"
   ]
  },
  {
   "cell_type": "code",
   "execution_count": 39,
   "id": "da49e63c",
   "metadata": {},
   "outputs": [],
   "source": [
    "num=naive[\"Execution_Time(ms)\"]+naive[\"Input_Dimensions\"]"
   ]
  },
  {
   "cell_type": "code",
   "execution_count": 40,
   "id": "4cf30a42",
   "metadata": {},
   "outputs": [
    {
     "name": "stdout",
     "output_type": "stream",
     "text": [
      "Input_Dimensions      5608.000000\n",
      "Execution_Time(ms)      45.044794\n",
      "dtype: float64\n"
     ]
    }
   ],
   "source": [
    "Q1 = naive.quantile(0.25)\n",
    "Q3 = naive.quantile(0.75)\n",
    "IQR = Q3 - Q1\n",
    "print(IQR)"
   ]
  },
  {
   "cell_type": "code",
   "execution_count": 41,
   "id": "014e9fe4",
   "metadata": {},
   "outputs": [
    {
     "name": "stdout",
     "output_type": "stream",
     "text": [
      "[1.24407089 1.23923228 1.23438694 1.22956918 1.22468026 1.21989166\n",
      " 1.21506123 1.21021638 1.20538963 1.20054294 1.19571165 1.19087225\n",
      " 1.18603091 1.18118923 1.17635134 1.17151462 1.16665896 1.16184036\n",
      " 1.15699423 1.15214287 1.14732235 1.14249788 1.13763431 1.13277428\n",
      " 1.12793719 1.12309254 1.11827249 1.11340871 1.10859258 1.10376159\n",
      " 1.09888917 1.0940542  1.08925238 1.08437704 1.07956452 1.07470969\n",
      " 1.06986248 1.06500774 1.06018897 1.05533765 1.0504843  1.04566795\n",
      " 1.040834   1.03592243 1.0311318  1.02629408 1.02133276 1.01638706\n",
      " 1.0117366  1.00683766 1.00205444 0.99719455 0.99222578 0.98750829\n",
      " 0.98262587 0.97785499 0.97289093 0.96810499 0.96331878 0.9584945\n",
      " 0.95363415 0.94879602 0.94394905 0.93422149 0.92454077 0.91487265\n",
      " 0.90519736 0.89547072 0.88575281 0.87605282 0.86638336 0.8566672\n",
      " 0.84700248 0.83729622 0.82746624 0.81792026 0.8081247  0.79827594\n",
      " 0.78870467 0.7790509  0.7692069  0.75961035 0.75002211 0.74029778\n",
      " 0.73051587 0.72071796 0.71082275 0.70098923 0.69167535 0.68122023\n",
      " 0.67233729 0.66266328 0.65273645 0.64276876 0.63347034 0.62362845\n",
      " 0.61401385 0.60411648 0.59470834 0.58490973 0.57513775 0.56526105\n",
      " 0.55537394 0.54613943 0.53644975 0.52655468 0.51698777 0.50700232\n",
      " 0.49703734 0.48739695 0.47779368 0.46829624 0.458479   0.44871443\n",
      " 0.43916465 0.4293149  0.4196769  0.40988682 0.39998853 0.39041883\n",
      " 0.38076534 0.37087404 0.36114482 0.35146519 0.34187438 0.33216392\n",
      " 0.32231535 0.31252746 0.30295021 0.29251214 0.28348642 0.27378513\n",
      " 0.26388258 0.25420542 0.24465481 0.2348148  0.2248912  0.21529715\n",
      " 0.20556096 0.19597542 0.1862588  0.17619306 0.16631656 0.15694561\n",
      " 0.1471412  0.13735783 0.1278021  0.1178525  0.10803415 0.09776119\n",
      " 0.08846025 0.07749057 0.0686055  0.05960465 0.04972016 0.04020934\n",
      " 0.03031513 0.01045428 0.00858974 0.02848649 0.04767426 0.0670707\n",
      " 0.08663538 0.10634741 0.12576745 0.1457533  0.16479396 0.18453904\n",
      " 0.20399251 0.22405066 0.24331524 0.26216193 0.28254584 0.30144635\n",
      " 0.32180387 0.3407441  0.36002432 0.37987124 0.40017263 0.41894475\n",
      " 0.43833072 0.45794681 0.47987715 0.49710551 0.51694281 0.53604901\n",
      " 0.55570399 0.57536832 0.59725741 0.61439394 0.63464844 0.65407067\n",
      " 0.67318018 0.69242614 0.71196768 0.73183657 0.75133603 0.77117445\n",
      " 0.79078885 0.81045588 0.82970453 0.84976792 0.87025102 0.88868388\n",
      " 0.90837894 0.92785894 0.94734643 0.96681678 0.98659587 1.00726283\n",
      " 1.02695235 1.04534873 1.06517299 1.08476646 1.10439509 1.12391234\n",
      " 1.14335847 1.16370544 1.18276311 1.20250088 1.22239892 1.24163413\n",
      " 1.26179801 1.28093618 1.30092626 1.32050516 1.34047764 1.36041052\n",
      " 1.38391217 1.40232661 1.42037079 1.44399505 1.4602196  1.48042727\n",
      " 1.49960887 1.51919347 1.53946815 1.55878997 1.57976558 1.59831729\n",
      " 1.61788746 1.63904389 1.65855977 1.67754087 1.69696936 1.71589744\n",
      " 1.74447236 1.75506875 1.77383499 1.79724461 1.81535622 1.83735682\n",
      " 1.85343182 1.87246289 1.89158757 1.91129958 1.93166086 1.95121182\n",
      " 1.97113061 1.99734235 2.01157669 2.03131119 2.05068139 2.07032463\n",
      " 2.09102319 2.19344971]\n"
     ]
    }
   ],
   "source": [
    "from scipy import stats\n",
    "import numpy as np\n",
    "z = np.abs(stats.zscore(num))\n",
    "print(z)"
   ]
  },
  {
   "cell_type": "code",
   "execution_count": 43,
   "id": "74948750",
   "metadata": {},
   "outputs": [
    {
     "name": "stdout",
     "output_type": "stream",
     "text": [
      "(array([], dtype=int64),)\n"
     ]
    }
   ],
   "source": [
    "threshold = 3\n",
    "print(np.where(z > 3))\n"
   ]
  },
  {
   "cell_type": "code",
   "execution_count": 47,
   "id": "518a1ee3",
   "metadata": {},
   "outputs": [
    {
     "name": "stderr",
     "output_type": "stream",
     "text": [
      "<ipython-input-47-1f08036e0fe9>:1: FutureWarning: Automatic reindexing on DataFrame vs Series comparisons is deprecated and will raise ValueError in a future version.  Do `left, right = left.align(right, axis=1, copy=False)` before e.g. `left == right`\n",
      "  naive_mod = naive[~((naive < (Q1 - 1.5 * IQR)) |(naive > (Q3 + 1.5 * IQR))).any(axis=1)]\n",
      "<ipython-input-47-1f08036e0fe9>:1: FutureWarning: Automatic reindexing on DataFrame vs Series comparisons is deprecated and will raise ValueError in a future version.  Do `left, right = left.align(right, axis=1, copy=False)` before e.g. `left == right`\n",
      "  naive_mod = naive[~((naive < (Q1 - 1.5 * IQR)) |(naive > (Q3 + 1.5 * IQR))).any(axis=1)]\n"
     ]
    }
   ],
   "source": [
    "naive_mod = naive[~((naive < (Q1 - 1.5 * IQR)) |(naive > (Q3 + 1.5 * IQR))).any(axis=1)]"
   ]
  },
  {
   "cell_type": "code",
   "execution_count": 48,
   "id": "86215039",
   "metadata": {},
   "outputs": [
    {
     "data": {
      "text/plain": [
       "(257, 3)"
      ]
     },
     "execution_count": 48,
     "metadata": {},
     "output_type": "execute_result"
    }
   ],
   "source": [
    "naive_mod.shape"
   ]
  },
  {
   "cell_type": "code",
   "execution_count": 49,
   "id": "7be4589b",
   "metadata": {},
   "outputs": [
    {
     "data": {
      "text/plain": [
       "<AxesSubplot:xlabel='Execution_Time(ms)'>"
      ]
     },
     "execution_count": 49,
     "metadata": {},
     "output_type": "execute_result"
    },
    {
     "data": {
      "image/png": "[encoded data removed]",
      "text/plain": [
       "<Figure size 432x288 with 1 Axes>"
      ]
     },
     "metadata": {
      "needs_background": "light"
     },
     "output_type": "display_data"
    }
   ],
   "source": [
    "sns.boxplot(x=naive_mod[\"Execution_Time(ms)\"])"
   ]
  },
  {
   "cell_type": "code",
   "execution_count": 50,
   "id": "88ace654",
   "metadata": {},
   "outputs": [
    {
     "data": {
      "text/plain": [
       "0        0.145286\n",
       "1        0.157734\n",
       "2        0.192416\n",
       "3        0.135853\n",
       "4        0.314778\n",
       "          ...    \n",
       "254    104.991869\n",
       "255    106.224896\n",
       "256    109.606561\n",
       "257    110.306624\n",
       "258    112.223949\n",
       "Name: Execution_Time(ms), Length: 257, dtype: float64"
      ]
     },
     "execution_count": 50,
     "metadata": {},
     "output_type": "execute_result"
    }
   ],
   "source": [
    "naive_mod[\"Execution_Time(ms)\"]"
   ]
  },
  {
   "cell_type": "code",
   "execution_count": 53,
   "id": "2a7cef11",
   "metadata": {},
   "outputs": [
    {
     "name": "stdout",
     "output_type": "stream",
     "text": [
      "10.905542\n",
      "100.70526699999999\n"
     ]
    },
    {
     "name": "stderr",
     "output_type": "stream",
     "text": [
      "<ipython-input-53-46e9f1e7fc6b>:3: SettingWithCopyWarning: \n",
      "A value is trying to be set on a copy of a slice from a DataFrame.\n",
      "Try using .loc[row_indexer,col_indexer] = value instead\n",
      "\n",
      "See the caveats in the documentation: https://pandas.pydata.org/pandas-docs/stable/user_guide/indexing.html#returning-a-view-versus-a-copy\n",
      "  naive_mod['Execution_Time(ms)'] = np.where(naive_mod['Execution_Time(ms)'] > 100.70, 10.90, naive_mod['Execution_Time(ms)'])\n"
     ]
    },
    {
     "data": {
      "text/html": [
       "<div>\n",
       "<style scoped>\n",
       "    .dataframe tbody tr th:only-of-type {\n",
       "        vertical-align: middle;\n",
       "    }\n",
       "\n",
       "    .dataframe tbody tr th {\n",
       "        vertical-align: top;\n",
       "    }\n",
       "\n",
       "    .dataframe thead th {\n",
       "        text-align: right;\n",
       "    }\n",
       "</style>\n",
       "<table border=\"1\" class=\"dataframe\">\n",
       "  <thead>\n",
       "    <tr style=\"text-align: right;\">\n",
       "      <th></th>\n",
       "      <th>Input_Dimensions</th>\n",
       "      <th>Execution_Time(ms)</th>\n",
       "    </tr>\n",
       "  </thead>\n",
       "  <tbody>\n",
       "    <tr>\n",
       "      <th>count</th>\n",
       "      <td>257.000000</td>\n",
       "      <td>257.000000</td>\n",
       "    </tr>\n",
       "    <tr>\n",
       "      <th>mean</th>\n",
       "      <td>3874.863813</td>\n",
       "      <td>21.327353</td>\n",
       "    </tr>\n",
       "    <tr>\n",
       "      <th>std</th>\n",
       "      <td>3095.398806</td>\n",
       "      <td>26.443125</td>\n",
       "    </tr>\n",
       "    <tr>\n",
       "      <th>min</th>\n",
       "      <td>16.000000</td>\n",
       "      <td>0.135853</td>\n",
       "    </tr>\n",
       "    <tr>\n",
       "      <th>25%</th>\n",
       "      <td>1072.000000</td>\n",
       "      <td>1.577293</td>\n",
       "    </tr>\n",
       "    <tr>\n",
       "      <th>50%</th>\n",
       "      <td>3120.000000</td>\n",
       "      <td>10.900000</td>\n",
       "    </tr>\n",
       "    <tr>\n",
       "      <th>75%</th>\n",
       "      <td>6320.000000</td>\n",
       "      <td>31.723386</td>\n",
       "    </tr>\n",
       "    <tr>\n",
       "      <th>max</th>\n",
       "      <td>10544.000000</td>\n",
       "      <td>100.646318</td>\n",
       "    </tr>\n",
       "  </tbody>\n",
       "</table>\n",
       "</div>"
      ],
      "text/plain": [
       "       Input_Dimensions  Execution_Time(ms)\n",
       "count        257.000000          257.000000\n",
       "mean        3874.863813           21.327353\n",
       "std         3095.398806           26.443125\n",
       "min           16.000000            0.135853\n",
       "25%         1072.000000            1.577293\n",
       "50%         3120.000000           10.900000\n",
       "75%         6320.000000           31.723386\n",
       "max        10544.000000          100.646318"
      ]
     },
     "execution_count": 53,
     "metadata": {},
     "output_type": "execute_result"
    }
   ],
   "source": [
    "print(naive_mod['Execution_Time(ms)'].quantile(0.50)) \n",
    "print(naive_mod['Execution_Time(ms)'].quantile(0.95)) \n",
    "naive_mod['Execution_Time(ms)'] = np.where(naive_mod['Execution_Time(ms)'] > 100.70, 10.90, naive_mod['Execution_Time(ms)'])\n",
    "naive_mod.describe()"
   ]
  },
  {
   "cell_type": "code",
   "execution_count": 59,
   "id": "f0b5f355",
   "metadata": {},
   "outputs": [
    {
     "name": "stdout",
     "output_type": "stream",
     "text": [
      "11.898566\n",
      "108.22010625\n"
     ]
    },
    {
     "data": {
      "text/plain": [
       "(266, 3)"
      ]
     },
     "execution_count": 59,
     "metadata": {},
     "output_type": "execute_result"
    }
   ],
   "source": [
    "print(naive['Execution_Time(ms)'].quantile(0.50)) \n",
    "print(naive['Execution_Time(ms)'].quantile(0.95))\n",
    "naive.shape"
   ]
  },
  {
   "cell_type": "code",
   "execution_count": 60,
   "id": "29c5949e",
   "metadata": {},
   "outputs": [],
   "source": [
    "naive['Execution_Time(ms)'] = np.where(naive['Execution_Time(ms)'] > 108.22, 11.90, naive['Execution_Time(ms)'])"
   ]
  },
  {
   "cell_type": "code",
   "execution_count": 61,
   "id": "c871ecaa",
   "metadata": {},
   "outputs": [
    {
     "data": {
      "text/plain": [
       "0       0.145286\n",
       "1       0.157734\n",
       "2       0.192416\n",
       "3       0.135853\n",
       "4       0.314778\n",
       "         ...    \n",
       "261    11.900000\n",
       "262    11.900000\n",
       "263    11.900000\n",
       "264    11.900000\n",
       "265    11.900000\n",
       "Name: Execution_Time(ms), Length: 266, dtype: float64"
      ]
     },
     "execution_count": 61,
     "metadata": {},
     "output_type": "execute_result"
    }
   ],
   "source": [
    "naive['Execution_Time(ms)'] "
   ]
  },
  {
   "cell_type": "code",
   "execution_count": null,
   "id": "8f9d40c6",
   "metadata": {},
   "outputs": [],
   "source": []
  }
 ],
 "metadata": {
  "kernelspec": {
   "display_name": "Python 3",
   "language": "python",
   "name": "python3"
  },
  "language_info": {
   "codemirror_mode": {
    "name": "ipython",
    "version": 3
   },
   "file_extension": ".py",
   "mimetype": "text/x-python",
   "name": "python",
   "nbconvert_exporter": "python",
   "pygments_lexer": "ipython3",
   "version": "3.9.4"
  }
 },
 "nbformat": 4,
 "nbformat_minor": 5
}
